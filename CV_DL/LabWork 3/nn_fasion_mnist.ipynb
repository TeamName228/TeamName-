{
 "cells": [
  {
   "cell_type": "code",
   "execution_count": 2,
   "metadata": {
    "id": "2FIzBClfHz_3"
   },
   "outputs": [],
   "source": [
    "import numpy as np\n",
    "import tensorflow as tf\n",
    "from tensorflow import keras\n",
    "from tensorflow.keras.datasets import cifar10\n",
    "from tensorflow.keras.models import Sequential\n",
    "from tensorflow.keras.layers import Dense, Dropout, Flatten, Conv2D, MaxPooling2D\n",
    "from tensorflow.keras import utils\n",
    "from IPython.display import display, HTML\n",
    "from PIL import Image\n",
    "import io\n",
    "import base64"
   ]
  },
  {
   "cell_type": "code",
   "execution_count": 3,
   "metadata": {
    "colab": {
     "base_uri": "https://localhost:8080/"
    },
    "id": "or9XvaUTLWWc",
    "outputId": "382683f5-c6e1-48f6-8e2d-6b6aab73eb73"
   },
   "outputs": [],
   "source": [
    "(x_train, y_train), (x_test, y_test) = cifar10.load_data()"
   ]
  },
  {
   "cell_type": "code",
   "execution_count": 4,
   "metadata": {
    "id": "tVX9zEGZWy-H"
   },
   "outputs": [],
   "source": [
    "class_names = ['Airplane', 'Automobile', 'Bird', 'Cat', 'Deer', 'Dog', 'Frog', 'Horse', 'Ship', 'Truck']"
   ]
  },
  {
   "cell_type": "code",
   "execution_count": 5,
   "metadata": {
    "colab": {
     "base_uri": "https://localhost:8080/",
     "height": 430
    },
    "id": "Y-qa6ELeXKli",
    "outputId": "5e55f9db-50ea-441b-ae8f-e5caf8afb620"
   },
   "outputs": [
    {
     "data": {
      "text/html": [
       "<p>Изображение до нормализации (индекс 25): Frog</p>"
      ],
      "text/plain": [
       "<IPython.core.display.HTML object>"
      ]
     },
     "metadata": {},
     "output_type": "display_data"
    },
    {
     "data": {
      "image/jpeg": "[encoded data removed]",
      "image/png": "[encoded data removed]",
      "text/plain": [
       "<PIL.Image.Image image mode=RGB size=32x32>"
      ]
     },
     "metadata": {},
     "output_type": "display_data"
    }
   ],
   "source": [
    "image = Image.fromarray(x_train[25])\n",
    "display(HTML(f'<p>Изображение до нормализации (индекс 25): {class_names[y_train[25][0]]}</p>'))\n",
    "display(image)"
   ]
  },
  {
   "cell_type": "code",
   "execution_count": 6,
   "metadata": {
    "id": "MCY9blr2Xhrt"
   },
   "outputs": [],
   "source": [
    "x_train = x_train.astype('float32') / 255\n",
    "x_test = x_test.astype('float32') / 255\n",
    "y_train = utils.to_categorical(y_train, 10)\n",
    "y_test = utils.to_categorical(y_test, 10)"
   ]
  },
  {
   "cell_type": "code",
   "execution_count": 7,
   "metadata": {
    "colab": {
     "base_uri": "https://localhost:8080/",
     "height": 435
    },
    "id": "7u2uvTFqXpfh",
    "outputId": "143b30cb-fe78-490f-b550-ad073a57aa28"
   },
   "outputs": [
    {
     "data": {
      "text/html": [
       "<p>Изображение после нормализации (индекс 25): Frog</p>"
      ],
      "text/plain": [
       "<IPython.core.display.HTML object>"
      ]
     },
     "metadata": {},
     "output_type": "display_data"
    },
    {
     "data": {
      "image/jpeg": "[encoded data removed]",
      "image/png": "[encoded data removed]",
      "text/plain": [
       "<PIL.Image.Image image mode=RGB size=32x32>"
      ]
     },
     "metadata": {},
     "output_type": "display_data"
    }
   ],
   "source": [
    "image = Image.fromarray((x_train[25] * 255).astype(np.uint8))\n",
    "display(HTML(f'<p>Изображение после нормализации (индекс 25): {class_names[np.argmax(y_train[25])]}</p>'))\n",
    "display(image)"
   ]
  },
  {
   "cell_type": "code",
   "execution_count": 8,
   "metadata": {
    "colab": {
     "base_uri": "https://localhost:8080/",
     "height": 826
    },
    "id": "ZaPYzzm7XutM",
    "outputId": "67909ff7-5087-4969-aa80-06e1651defd8"
   },
   "outputs": [
    {
     "data": {
      "text/html": [
       "<div style=\"display: grid; grid-template-columns: repeat(5, 100px); gap: 10px;\"><div style=\"text-align: center;\"><img src=\"data:image/png;base64,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\" width=\"100\" /><br>Frog</div><div style=\"text-align: center;\"><img src=\"data:image/png;base64,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\" width=\"100\" /><br>Truck</div><div style=\"text-align: center;\"><img src=\"data:image/png;base64,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\" width=\"100\" /><br>Truck</div><div style=\"text-align: center;\"><img src=\"data:image/png;base64,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\" width=\"100\" /><br>Deer</div><div style=\"text-align: center;\"><img src=\"data:image/png;base64,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\" width=\"100\" /><br>Automobile</div><div style=\"text-align: center;\"><img src=\"data:image/png;base64,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\" width=\"100\" /><br>Automobile</div><div style=\"text-align: center;\"><img src=\"data:image/png;base64,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\" width=\"100\" /><br>Bird</div><div style=\"text-align: center;\"><img src=\"data:image/png;base64,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\" width=\"100\" /><br>Horse</div><div style=\"text-align: center;\"><img src=\"data:image/png;base64,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\" width=\"100\" /><br>Ship</div><div style=\"text-align: center;\"><img src=\"data:image/png;base64,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\" width=\"100\" /><br>Cat</div><div style=\"text-align: center;\"><img src=\"data:image/png;base64,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\" width=\"100\" /><br>Deer</div><div style=\"text-align: center;\"><img src=\"data:image/png;base64,iVBORw0KGgoAAAANSUhEUgAAACAAAAAgCAIAAAD8GO2jAAAJm0lEQVR4nB1WWY9cRxWuU8vdb+/L7D3jmfESL4mTGBGIIVKEkgckpMAjSPwGHhC/gjekiBckIoSIIvGAhFESCxISx0lsxwuOx/aM7Yx7pt3TM73d23etqoOu66FeSjp16qvzLfD7P7y70i5zGdgs7ywu2G5zbwoff3YzHE78UvXSYZ298OPp1399k3/z61/+KnaqWoec8OHB6I/v/mkyGv/2d79ZW1u9du3axvFN27I9zxsOh2EYtlqt4XBoWiY/f+qkoPpgP6m0FzXhhNB6pfTTt97sd/e7+882TCsUw3anpHr5Z199bjeWjq8ve9XK5/e++uSTT0Drjz788J2fv3P2zOkkjkErg1HfsT3bdB3bYI08z/hyq6GUlHEC1FFIAIRrGgBYPra0stDaENWto7S6ctobpL3eIBoe4tKcadrLnbXOyko6C8+ePZckkW1y37GkTJ8+3nY93zCMPJkxAlJLLrM4imLbsjhliAhUZPFsMhy1Wy3LYXWLL9rCAqL940uN5Umc6DSTmT595tzFixcb1dJbb7/16NF2f7/nO2Y8C4ajUblSVUpyLqSU0SzkN+/ciGcxkdo2jZJfqVVejKfDpzsPQCau49gidB2bcc0rdeHRZPfxfq/rVBdHYXbixIm3f/JGqVyp1xv97u54sF9ybYoqmo5tx87iFAiAlny3+5gT6ggznSlKkAByQRkjcTwjRKHIyhYiCDRtZvDlTscplYjlp4Peyy+/4pcqKpML8+1kuspRm4wgwUwqwZlSiiAS1HD5H+8BEgYMEE3TXVpZZYweHR5yIQRjFuWW66DgQDlFCoAzFEcB9QRr1r04k1SjVyIyTVSkGOQISiECai1lUR0lP7W2wXiBPqVUIyWEObZDG5QLYXBOldaASAklyFASbuTUkUcT1/VNzoiwjoZpMk0rrq0hBkwIJVoBBUop0wo1At++e9+wDa/sN5oNSk3LdDjhRBLy/IVKSmBANCIqRggzi1kou5bBNErZHczud+PlRbvk2YxnRGkglFEGqHQBD2qJ/G/vf3Di5Ob5V150Hct1mEwS5Mx8DiJlDEixkDJTmKP+QfBs7C+sTYcHl/790STGI5yzK8sLc2cYosxSrbKikRy1kqgkoELU/Ma9u27NfwnPhdMRkZpB4jg2Y1zJXGIOSudI+pPxweEoCmLPdlrU/st7f77y+RXldSrrr593GvFwLy/XoqNBls+0TlUmVZahzlFJROQxYE5JuVaplVyDGYRQBiqcTpIkAUKYpjnwf17+z+VPvxCGd/7kpmFevX37TmupY3Vew/Lm4d721cvX+bn1YDB2K6WSbzCdayWJKnatNTd9qzFfFww45QgUEDVRs2iSzqIkjPYORjkXX391dXfn4WEUf3v/lgDWXuzMtzv9BMt13Lp/bUKDtWrrxrUbw2TcrvmnN469dO4FVCmqTMmc16vlZrOKWYqaEM4pAcIIE9xgYNj2p7u3rm/d/+7JY6EyLWf9SVK1K0ejMe7um4tNg8Zb92/xpcUYStWl9Q///h7Jk62tneXV9XarlKcBZZQ6ppXHCUVCNUnjOErj6Ww2DoNZEvuVcmtu/va391KpF+aWbWbbzPRsC7O4VXEW6u71/34cjA/3R8/e/9cH1CLr8/NM6d39vbtb94pBBRCc8zAIBgcDmeVhEHxx8yYzRSqzKJycP3lKoq7VqgRoEMVNDw1mWo5d9f0kCrPxwTi+MXz6BHQ+HPd7AxpMOyZBLWWYxXv9XjGEQAlqnuTZJAyCOOp2e7f+d0c4VpREgGpzdTVX0rPFwlzjm5t3u8gkYs11m9XqSMbTg91e+DgNEk6kw4SRR4/u3hoOnkmiwzSJ0lSh5gCokeeAYZYcTkb3trb2B/16uxUl0dGgv7P7xBXmXLn0i5+93e3tqVQyIYCCSlMZBTZIG5WajaiWNXCcyXSSpbFSkc7iPBOGUbBHF/zk41m4+2z/8X73MJx2+8+4Y61vbhweHjDGGCWWkK+e33z94ivd3VFvGExGYzOJVJZIpkCSWsnKssxU2tI4nB4ENp+kuULtei4AKKVQKY4KDWEKxwlklqAeDadU83alYSlls7Q73lGebjbp9WvTWFLT5EkaIlFawjBIuOu35pvD4XQQ53GmKVWx1LZhlRwXFKZ5oRgciCJ5JrLckbpiWbMkPBwNLNuM4mCWTB4c7dBEa5bkcjY9CkGnvmlwSoJZkkrtu3ZneT5ttm7f2eJ+aX6hOb7/0HXcWqlElCpEBhjnNlgVc5pNCJO8xCOi+moMkO2raUNHD6ez3qMeTf1jpxbzOzu9Z2NJoOZZkshKtbwyP+cAXnztgsfFZ1e/dMwlx7Lajfp8q8mKTy6u4PWFxlCkXw62pU3UWpUq+VQGhgDIx0c7dx/uHT7a7ld58uMLP1poLb3/wSVJmSbkwsvn1lY67VaTxLONdsO5cP7qlSuPtncI4nyz2ahWGEFBgWjgJzaPPxjvBkwbZb9VqdFURXHGCEAePdnpppO8nNVtLVicLFUbc/XW3kG/WaqdWV2qlxyfIXdtEoyaFnvz+69euvp1kGa+bWdRlFKtidKUcj2M19ymC8ySlnlETMlNu8opk+lUOkIbkjaqlkEhnQhCTs7Ph9PxD146+8LyPE1jmxNgwhYUhPnGD79368l3wZNuxffiMAQiKQfknNciBTm6SjmABmGCUM83DWHmEVhG1fCAgUcZQc4B7GuCGYy2a5VWpcRymzGhCroCF2JjtXqs03nc7a2tLJc8F1SsCaZZxjuGqZRiFATlgjGDMSIjxpTpcgCiKQWGhALjPgWmqU6yTCnpl8tEUW7ahBJFhEEJM2il7LuO3aqWGZBQ5wXNpC6KUgIAQBhFzrUQhiEsxxWGwQTXhkEYFVyYlskYW+tPlgcjbtjlWiNPJDMsTVQiAXVOCNFaeb5nWZbWivKiLAPO/VqNADUEtyybmyY1DM65ZVmcMWBMUijaZ+y5OIJXKrUazSTXqYbCD1WuiJLItVLAqCbEdV3HcRALP9YaQTO+uHoMCQouCCmsXhWWQxLE5xFDY4pFfjKoKg4hHAdxFPUHw/3ByDU5TeMiczDHBI2U+eWSMIzCsUghcwXPADgKludSaZml2SzNFEKcxHGcCMEZZTLOUaJhGoWbK33Q6x8Njg5s4/HTvbJjFLZFEITrGdyy+SyOkzQNw5lyTE00AEgleZRmUqkkicNwFieZ0jRO4iRJCi0kQAgoWZD+eWvITXFsdXX9WKfRXjCZJHmstEJmqzx5sL0zm4XLy4t7e93sqJ9CWgRpIv4PhJujbRvR1+0AAAAASUVORK5CYII=\" width=\"100\" /><br>Horse</div><div style=\"text-align: center;\"><img src=\"data:image/png;base64,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\" width=\"100\" /><br>Horse</div><div style=\"text-align: center;\"><img src=\"data:image/png;base64,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\" width=\"100\" /><br>Bird</div><div style=\"text-align: center;\"><img src=\"data:image/png;base64,iVBORw0KGgoAAAANSUhEUgAAACAAAAAgCAIAAAD8GO2jAAAJz0lEQVR4nB2W2W9kRxXGa71739u3F7ftdnuZsZ1ZbGwnmQSSQAijsCgSEhIPiDcQ/wZvvPAKEk8I8QJCIihKUBSIogSGZJYkwwCZzbvbS9u9L/f23WpDnVP1UqXSd45UOr/vwJ/96h9SCggAgEJApAClSqHxuZ2dbT0zP+y2P/7kkyyJC4WCYRiaphmGfvXqNY2aGFMAFQASQqiUAkAhNJGRUoovQ0qJECJQcaQkAAApBQGQQGAENEOjxHzv/ff2H/13PB5DSCBEAADOmVRi9u6dmzdfX7u+kbEMAMm5lFJijDiXnPMvkwGkBIAg45IQNCkDAAgVwEAimI1a9f2DL7qnO3zUyhmaY+cyJpRSnAuMMZDi4HAvfDtMknR9/SuEECkZhFAIqdTk2URLyWQcdvq91qBHCJyoAgURAgSy/Yf3Dv73cdRrqiQr+05laoYYJqU4CEZcCIxQxmIpRH8w+uu775w2zjbWNzwvr1E60VCS87Q/GLab7dZFox+MEsEIRlgqqQGMRbz9n1sP736QhG3OAQEUIqNYruQKOY2g4ciOxpHt2EJwk+pKgcF4HMXBgwefmoZFECoVC6ZltHrNxnmnP8wSgDDRDdMjCBIbQJE0H92/9cXnd+Kgq6SEVCe6qdv20qUlv5THEEup4jjO0vTk7DQK4+pURSd6ZqcIqmEwenKwv7x81fNL581+ux86btl3fNfzPNclOgJZv3frozeD9qGlQ9OYtp2c6dgIyBwllamKaeumZhu64Xke46x4cHC8f+D7rpbS4SjKWNIfDXuDYHn1Wm1+8c69z/Ol+bnafCFfdpwcwZhEvcM7H74z7HUwMadrs5rlO7quQJakYcV1ueBZCnrN1tbWVt6zAISG+Ux1uhCx4KBZT+BoNOxJK5ip5VZXalsbN5RARNMIhRjpCCEhBLl3+32A4pXr6yxLpOKcsTBLeRZKkbrVqu26ndbFzpPHR41Dx3KUIs2LZpJFUhe7zb3ZxcpCLW9aBoi1cXqs4Fa5lI+zTEqpRCQAUQCQXqc5PzfTH/YdCqPuBePczbmVvEehKVhy0jgDSpK824XR3v7O4dHFoNkxKKUWBjSZqZVKw24cB/E4PH78T8xxMORe3s8SzXRNYrhAIbj21ZuaSCEEvufkXct1vXK5bJp6ksatbjdOU9OxT0bNcRyML9qNXodIIx2kSCqNiLKn27rMe4apY8dx0oxG46xarXR7PKXOiy+/NDMzS3wd+ZYzOzNtO06pVJBKAaWIhhUkWZpsb+8BTM769dWqtTVbmitbu42g3eiBBBAlW+1IAgTBEAGGkCCYUkrNp4cE21LBk5Mdz3PJC5urtdlpiWkwCizLFnKyEEGQsSjKjg7PvGIFE+25dW9tyv/gfj/nurlSwkKFJNBVNMEPh0AmGeCptCw3v7JWu7q63jzZH/frtqNQqZBzPUunSNeobuiYEEQJk0oKAQSHQFM6iQXbWp/+9rdWTxqNUZxYToGaFjEpsHLC9r/cFWJN25aXc5zlxcsLtVktp+v5oufmka7pSgkMBZJCciYFF3JCLzC5VLqmpSJUKDUoA3Kk0QkPCdYxxATCyR8CiZGAigslOZGxjIMsSuUYEtkdRXNVQBBCjDE5YZ8ULJOCSSkhQFLKlE/aAMYCEJDiXJDRJEqxqWxXlyxBglAJFRIGJbauIaoPxpFG1DhMwjCkSPNM75VXyiQIgihWSZKxhFE8ABilEyZDrmSSMp4lZY1ejNSf3ty9lz+Bml1ZKJamLh1uP+23uzyAmFDoaDOrq1dWrtz+6F/tZuPo6DQMhhlMiUL9kSCTpmA8S1MgJoYglUBAIYwEB1xIJXjFs5RQ9+4dyc3VymolyOHnX12bXRKNOh33ojBhIYBn8Lx51ImcjkRsmI2xnmEcuAa9/wgQ33OBTHRKkoQZmiGkEFIoCBVKIeRCMozY+hytn/Ne76jfk/bSlYJvrRRnkmWGOWv0+Ft/P59fWkMmUnNLFtafPnlw+TK4seyKNKsfKXLe6no2lRBKCCSUQgkuOJiYjzINS0ByfBGNCcsZOUgizYBD1vn80WPVarTqJ8pCzMVhKkWjqyzIlTIsAqC2c34ch0SN+SDWyLt/+9DP6W7Bd2w97zqGaVJKdaIBCQVXEGiDOGrpgkRhERiUjTeuynhYf1LvNY+GyjN0jfpVfczDZBSnPAyzIfdoPRE7B7GdOulwRJrn5yK2T88aACGMkee5tm3nvbzt2hBBnahLM/lXXitfnDT7nYxz8qwr28a4t+zaszxOeQBCxkAgGVeKAKRYyqCEOrWmOBxyNuJkuuhfv3JpMBomHG7v1Q8PtzVN00zNyls5x6vNeg5Is5P4pz989vd/+LhxkeV11kJpT2kRBFJynhl25jsKZYIjYZuAED4SaayAYmI4ViHKe67ne37BKeSNtSsrlBopV2mSpqO01ezaNi0VS6fnmCfsO99c9nP0og2ap2l2wtWBUCHSICKIKUJ0ahAKMw1KDAijKDHmcG0Rl9DCQk0qVSqVC75XnZnKew6AyrGtjWtXbmyumxRWq4XOIN5/Gs9P5UqGebCjyYb7qr9W7NrRYa+mzyzkFqN23Gj3WygeEwWVVjUWarj2xtYbL6/eIDOzlbOz0zRFtmkBqYq+PRgNpVA8S5cvz3caQbN1CjXY7Ip1goueNuSLGSw5ESZjlvbk2KbIDEe9+rDfXbUXNCAau8dA4AVXH2zfnckTUqtVheA7OzsDOcAY5WxNI2gURI93DkxLK+UtxkSlZGdcOM7c1WtByOLDXrvfb7+0Kb7uVT/64N/no9F3v389b1RtpFw/d5BXJ/Xej36wABIyTAX83a9/yRjvtLv1o6MkHgsIDo7PHz89DKPE98y1a0uVkq8rE8hWMa+WFslPfrz15Aju7Q03rqhrm+b+wyzjRs7Xb31y3B7Ez29Wtq5PjQcRMrLth71GTxKdmgSLhXm7tjCfZpPY3IoWa//97MHjs2Zn9/CCEmSQIByx3ePoPNBfOMyCHlAMnbXi5A4PAxXEySLdfO31FxXGeztPfv6Lt0zTvnR1ZdjXdVqEf/ztbwCACEIJJlMfn9g+S5Os2w936/VP7942CTQN7OSM6enZ0+PmcHAeZalUGMlMCJFyhYj96s3vTc/MheFob/fJZ3dvP/fc+s1vfA0oZFk5wriCEFBKEIAQQkQpJbplQNvxilOFqYL/4N59JmPTpkf1k6ePmhlEKWQJC7CkdFIThxj8+S9vAwUxhpaBa7VZx7EzObGviKcEa9pk4AZAwxh9mQIABSScnKjaWFurlWunnf1wHAh5tnJNNyyDQRklqUgSii3GVDQOIAB5319eXqmUS4W851iGYRNCkVL8/8OqyJbbU2zPAAAAAElFTkSuQmCC\" width=\"100\" /><br>Truck</div><div style=\"text-align: center;\"><img src=\"data:image/png;base64,iVBORw0KGgoAAAANSUhEUgAAACAAAAAgCAIAAAD8GO2jAAAIFElEQVR4nE1W6Y7cxhHuqj54zMzOambvwyvbio0YCZwDCfIM8Wvk4fIrSF4gP40gRhAj8SFHlnZX8kqamZ2LHA7JPqqC5midNMAmm0dd31dfE/7wxzdCEDAAC0YSgiQZAvAQGES8IfjdEQcIEIIfVgJ3J463ulfjExlfY2YRAEFJZEEMEDha04giYEAKPY6feYlBSM+I7CF64c5HN0dzP3qiXQwQb0dP7+IAUEpJpviEQGqGxG81+vHAj/R68nb27K1PD66SwZFAzdR9+X+DGbqMBMUYaXf9kAcLIQFRoVIigOIW/Ua6xSNYpO3645PzVLntixszWzblBB+dp0dPTG+fwBALeIhXMHCXDTJGL138u7y6CRBR5arpUeXL69QtUyrOT0Zt5fczBYgmy07PDKNZV7fl9Zumf5adfGQGh7GYFCsFHAg9MAIjA3ZYCH6XRlcwkOpj8zoP9xuzxkSw04lSkPb6gz3na5OkgG2Spkmqhm2z2v5QXU/D8CI/+EAPDjwkKgQGGQkiREDaVeZ/DhhiiU7lwqdOQg5ka9AICBAkIiuptEKwXTkhTbPDRPStK6vb1WZqxpe9wyudDT2qCCWTFtA5gJ2DXYmigzzNSg+GyPlAQpLzTMRCaK0RkR+YQxwjNMYMAQZE68X1anHXO348OPsQ0r1Ik0jFjloPxI1xIajx4RHN3xZlETwJZm0MowchlNRKSuYIHe5QYyKixffXykPv0ajf3yumLxarae/oqnd6BVlPhCCYqWNWxD46kAqAmKH1ITgnQSRZHuotxlS7RoJ46ijS5cwiadvE0rrdpifnw5Nj3xTV3bebcjo6e5yPTkXSEyFyrCMXC0RFHKxzRGS0YREzwLbZcQBjzrzrr90FCIFMqLC/12+9DyEkWiuAppquvpuV48vRex/tDUcCMXQgIArcRQZxzYgoEXfN4713zgom4CCIBJPgEJdETVvLTLd1NZtMfMSLjTZZmkHxdvHt53fPv3TNPM0oSYXRrBBRx6EoEETYo7yglKti+eb1awo6RsDRTJwjCTsomDj41XLeWsr6gyxPTJJoVEzkJz+8KRb7J2ej84tksI/WWUShE4Uy9vxOs0AQKtXrpTE1EQiCEIEpEJEziWPhqlZKkExFuZ69vXv76rbdbig4710mpXLt+vb5+u5lkoCq68Y5a4y2bUud2oAP6JxCmWoDwhOHhwSICPTBiPO0BZBJcpkeNF5st1W9bbx1EpvWe6UUgNDOpaHpyaCIyIeQKCWlxN0gEm2NIEOgrg86rHddBKJotja44aMxE4O1mdKY53neV0qF4BFEcDW1rXTOcMiVVNj1bizuAwDBteBtAF3VDYUQ49m1QZzAaDOb3BfrKkvSPQQSZHXWCCmVEggqMcjsy8oo3CyntJoopbRSyreWuEMcUSeGJQDAaDxabqbR/EOPMpMxiUnTbdumEslZCqFp/LL1opMWZYwaHTrnlMlePftaNBMlpfKeBKCQIGKRQOd5ozP2Nk2UlBF7ik35TsHSLLm4PHMuxO3OWSJKrT0C9J20IUpP3jKJ1rFtn371lfLe29ZmWYKuCxvAElXOs6DNdrsrTCfN8RBCeOeapmaC4CN4cc8yJlHSB1Fb7zwH4ACy9US1P94/UG3ThhCi6w5kARDTt5G767KkTot2egfdPhh7ITKXiCO5oiBGrUImTz7qZeSaD03TlpPJ/U2per28qKpYmi7FyNTAEqTR6vjwaFNN30EQ7UaLSWJQyrZ1URxtlLfWWu+FdyHYxjbb7Wa9Xq7ms9mmWA+HubLOt7Z1zjFTYkxZFIJZIhgtjZQ/GiYfiDwxNK3bbmvBommddTYE71nkmUbp2lC+uv5uvViGutmUBWpF2I+NlprEWsdETV2Tdb5ryM2mKderZruJPzCOoi0OzLKp7XZbWReKzaYql8Vq8eSnP/vdr37+w81/vps+t5tFLzerbeVY9IaH2fETFawVrdUSi7pmT4PxQVM3B49GL25u7u7ezKf3Sd+DgHanA1tbzBez+8n0frFYlU2xaF2TDvrAvzg7GK1Gw+Fvfrms6n/RLRxenTz5tD8+U8+++SaKhMJis0YB68W8WBe5FmASKeXqfpo5bpp2MpvO12W1KovZtNwUQmejw+M6OK1wtVzNpm8+ujr+9Le/fnE3f/3N7ejxJ8n+ucmGiFKFuqnqSvXzNEna7fZ+NlktF/+s56PTi6oqg7Mvb67n9/Pb62s1GAriTbkORL1hnvUGVZ41bdO0fr1sXvD86avpq2VrcZwfDUHmnfaj2j+7XN1e7w/H52cnq8WMg7sl9/zp1weDYcaBBbu2HvR62qTvXVwRi+83m1CXKLluGgAN1HAQX34/kXrpIZHZUaZTgVJEokhErWTWS/t7AjHLMtcb/OXPf3JNXa23N89fOpDL1dpaFwjzwZ6zNghIktzWjSAphAZpvFCk87XXe/lekvYBNUmMmyyglCiQFIM4ODxIE0mCAot/f/VUK9nP87/+7R8n5xegksH+oGm9KjZFtZFSa6MBY7drlHp4cHnxwfjq4/3RqQaJSgtUhLEtMWqPDAJU691wf5glxhOhkr//7LNiuXx5+/L49OLqgyffPnte1ZYsB5Y+ECp9+fj9Tb3hJM3HR/vj0/HBsUpyKY0ECUp2uzF0uxYxe939XWO13ZbrMgRazF437VYhnJyevvf+h5///Ys303ne2wuBnSNlskByUfrDy08Or36SP7owaS+qMYJWigR48swkQSqFe4Pe1fH++6fj/wJilWgpHwnSxQAAAABJRU5ErkJggg==\" width=\"100\" /><br>Truck</div><div style=\"text-align: center;\"><img src=\"data:image/png;base64,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\" width=\"100\" /><br>Truck</div><div style=\"text-align: center;\"><img src=\"data:image/png;base64,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\" width=\"100\" /><br>Cat</div><div style=\"text-align: center;\"><img src=\"data:image/png;base64,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\" width=\"100\" /><br>Bird</div><div style=\"text-align: center;\"><img src=\"data:image/png;base64,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\" width=\"100\" /><br>Frog</div><div style=\"text-align: center;\"><img src=\"data:image/png;base64,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\" width=\"100\" /><br>Deer</div><div style=\"text-align: center;\"><img src=\"data:image/png;base64,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\" width=\"100\" /><br>Cat</div><div style=\"text-align: center;\"><img src=\"data:image/png;base64,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\" width=\"100\" /><br>Frog</div><div style=\"text-align: center;\"><img src=\"data:image/png;base64,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\" width=\"100\" /><br>Frog</div><div style=\"text-align: center;\"><img src=\"data:image/png;base64,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\" width=\"100\" /><br>Bird</div></div>"
      ],
      "text/plain": [
       "<IPython.core.display.HTML object>"
      ]
     },
     "metadata": {},
     "output_type": "display_data"
    }
   ],
   "source": [
    "html_content = '<div style=\"display: grid; grid-template-columns: repeat(5, 100px); gap: 10px;\">'\n",
    "for i in range(25):\n",
    "    img = Image.fromarray((x_train[i] * 255).astype(np.uint8))\n",
    "    img_buffer = io.BytesIO()\n",
    "    img.save(img_buffer, format='PNG')\n",
    "    img_str = 'data:image/png;base64,' + base64.b64encode(img_buffer.getvalue()).decode('utf-8')\n",
    "    html_content += f'<div style=\"text-align: center;\"><img src=\"{img_str}\" width=\"100\" /><br>{class_names[np.argmax(y_train[i])]}</div>'\n",
    "html_content += '</div>'\n",
    "display(HTML(html_content))"
   ]
  },
  {
   "cell_type": "code",
   "execution_count": 9,
   "metadata": {
    "colab": {
     "base_uri": "https://localhost:8080/"
    },
    "id": "dyv5KPFHYpWj",
    "outputId": "25422586-f6f6-42b5-a436-abca70a6344a"
   },
   "outputs": [],
   "source": [
    "model = Sequential([\n",
    "    Conv2D(32, (3, 3), activation='relu', input_shape=(32, 32, 3), padding='same'),\n",
    "    MaxPooling2D((2, 2)),\n",
    "    Conv2D(64, (3, 3), activation='relu', padding='same'),\n",
    "    MaxPooling2D((2, 2)),\n",
    "    Flatten(),\n",
    "    Dense(512, activation='relu'),\n",
    "    Dropout(0.5),\n",
    "    Dense(10, activation='softmax')\n",
    "])"
   ]
  },
  {
   "cell_type": "code",
   "execution_count": 10,
   "metadata": {
    "id": "Wj9RQ74AZv25"
   },
   "outputs": [],
   "source": [
    "model.compile(optimizer=tf.keras.optimizers.Adam(learning_rate=0.001),\n",
    "              loss='categorical_crossentropy',\n",
    "              metrics=['accuracy'])"
   ]
  },
  {
   "cell_type": "code",
   "execution_count": 11,
   "metadata": {
    "colab": {
     "base_uri": "https://localhost:8080/",
     "height": 225
    },
    "id": "hOfE1WhYaKX-",
    "outputId": "f331dee0-cee6-4bf2-df3e-5a10f123b833"
   },
   "outputs": [
    {
     "name": "stdout",
     "output_type": "stream",
     "text": [
      "Model: \"sequential\"\n",
      "_________________________________________________________________\n",
      " Layer (type)                Output Shape              Param #   \n",
      "=================================================================\n",
      " conv2d (Conv2D)             (None, 32, 32, 32)        896       \n",
      "                                                                 \n",
      " max_pooling2d (MaxPooling2D  (None, 16, 16, 32)       0         \n",
      " )                                                               \n",
      "                                                                 \n",
      " conv2d_1 (Conv2D)           (None, 16, 16, 64)        18496     \n",
      "                                                                 \n",
      " max_pooling2d_1 (MaxPooling  (None, 8, 8, 64)         0         \n",
      " 2D)                                                             \n",
      "                                                                 \n",
      " flatten (Flatten)           (None, 4096)              0         \n",
      "                                                                 \n",
      " dense (Dense)               (None, 512)               2097664   \n",
      "                                                                 \n",
      " dropout (Dropout)           (None, 512)               0         \n",
      "                                                                 \n",
      " dense_1 (Dense)             (None, 10)                5130      \n",
      "                                                                 \n",
      "=================================================================\n",
      "Total params: 2,122,186\n",
      "Trainable params: 2,122,186\n",
      "Non-trainable params: 0\n",
      "_________________________________________________________________\n"
     ]
    }
   ],
   "source": [
    "model.summary()"
   ]
  },
  {
   "cell_type": "code",
   "execution_count": 12,
   "metadata": {
    "colab": {
     "base_uri": "https://localhost:8080/"
    },
    "id": "7ssW6ylQagdg",
    "outputId": "b91d4bc5-9a11-43e4-bc2a-65ca76145beb",
    "scrolled": true
   },
   "outputs": [
    {
     "name": "stdout",
     "output_type": "stream",
     "text": [
      "Epoch 1/50\n",
      "782/782 [==============================] - 33s 42ms/step - loss: 1.4624 - accuracy: 0.4730 - val_loss: 1.1171 - val_accuracy: 0.6039\n",
      "Epoch 2/50\n",
      "782/782 [==============================] - 32s 41ms/step - loss: 1.0818 - accuracy: 0.6210 - val_loss: 0.9500 - val_accuracy: 0.6665\n",
      "Epoch 3/50\n",
      "782/782 [==============================] - 32s 41ms/step - loss: 0.9397 - accuracy: 0.6685 - val_loss: 0.8651 - val_accuracy: 0.6984\n",
      "Epoch 4/50\n",
      "782/782 [==============================] - 31s 40ms/step - loss: 0.8369 - accuracy: 0.7077 - val_loss: 0.8427 - val_accuracy: 0.7082\n",
      "Epoch 5/50\n",
      "782/782 [==============================] - 32s 41ms/step - loss: 0.7572 - accuracy: 0.7334 - val_loss: 0.8216 - val_accuracy: 0.7156\n",
      "Epoch 6/50\n",
      "782/782 [==============================] - 41s 53ms/step - loss: 0.6879 - accuracy: 0.7598 - val_loss: 0.8033 - val_accuracy: 0.7237\n",
      "Epoch 7/50\n",
      "782/782 [==============================] - 37s 47ms/step - loss: 0.6228 - accuracy: 0.7809 - val_loss: 0.7656 - val_accuracy: 0.7355\n",
      "Epoch 8/50\n",
      "782/782 [==============================] - 37s 47ms/step - loss: 0.5653 - accuracy: 0.8010 - val_loss: 0.7678 - val_accuracy: 0.7413\n",
      "Epoch 9/50\n",
      "782/782 [==============================] - 37s 47ms/step - loss: 0.5056 - accuracy: 0.8209 - val_loss: 0.7794 - val_accuracy: 0.7377\n",
      "Epoch 10/50\n",
      "782/782 [==============================] - 37s 47ms/step - loss: 0.4548 - accuracy: 0.8391 - val_loss: 0.8048 - val_accuracy: 0.7392\n",
      "Epoch 11/50\n",
      "782/782 [==============================] - 36s 47ms/step - loss: 0.4124 - accuracy: 0.8530 - val_loss: 0.7983 - val_accuracy: 0.7478\n",
      "Epoch 12/50\n",
      "782/782 [==============================] - 36s 46ms/step - loss: 0.3729 - accuracy: 0.8661 - val_loss: 0.8344 - val_accuracy: 0.7488\n",
      "Epoch 13/50\n",
      "782/782 [==============================] - 38s 49ms/step - loss: 0.3359 - accuracy: 0.8789 - val_loss: 0.8563 - val_accuracy: 0.7439\n",
      "Epoch 14/50\n",
      "782/782 [==============================] - 36s 46ms/step - loss: 0.3053 - accuracy: 0.8915 - val_loss: 0.8766 - val_accuracy: 0.7462\n",
      "Epoch 15/50\n",
      "782/782 [==============================] - 35s 45ms/step - loss: 0.2812 - accuracy: 0.8987 - val_loss: 0.8924 - val_accuracy: 0.7463\n",
      "Epoch 16/50\n",
      "782/782 [==============================] - 40s 51ms/step - loss: 0.2560 - accuracy: 0.9080 - val_loss: 0.9739 - val_accuracy: 0.7477\n",
      "Epoch 17/50\n",
      "782/782 [==============================] - 40s 51ms/step - loss: 0.2439 - accuracy: 0.9132 - val_loss: 0.9902 - val_accuracy: 0.7465\n",
      "Epoch 18/50\n",
      "782/782 [==============================] - 39s 49ms/step - loss: 0.2225 - accuracy: 0.9206 - val_loss: 1.0233 - val_accuracy: 0.7485\n",
      "Epoch 19/50\n",
      "782/782 [==============================] - 37s 48ms/step - loss: 0.2140 - accuracy: 0.9238 - val_loss: 1.0617 - val_accuracy: 0.7437\n",
      "Epoch 20/50\n",
      "782/782 [==============================] - 37s 47ms/step - loss: 0.1997 - accuracy: 0.9289 - val_loss: 1.1049 - val_accuracy: 0.7421\n",
      "Epoch 21/50\n",
      "782/782 [==============================] - 38s 49ms/step - loss: 0.1871 - accuracy: 0.9336 - val_loss: 1.0886 - val_accuracy: 0.7447\n",
      "Epoch 22/50\n",
      "782/782 [==============================] - 38s 48ms/step - loss: 0.1761 - accuracy: 0.9373 - val_loss: 1.1014 - val_accuracy: 0.7460\n",
      "Epoch 23/50\n",
      "782/782 [==============================] - 39s 50ms/step - loss: 0.1697 - accuracy: 0.9392 - val_loss: 1.1616 - val_accuracy: 0.7417\n",
      "Epoch 24/50\n",
      "782/782 [==============================] - 37s 47ms/step - loss: 0.1684 - accuracy: 0.9396 - val_loss: 1.1822 - val_accuracy: 0.7403\n",
      "Epoch 25/50\n",
      "782/782 [==============================] - 37s 47ms/step - loss: 0.1546 - accuracy: 0.9440 - val_loss: 1.2422 - val_accuracy: 0.7452\n",
      "Epoch 26/50\n",
      "782/782 [==============================] - 36s 46ms/step - loss: 0.1505 - accuracy: 0.9454 - val_loss: 1.2497 - val_accuracy: 0.7403\n",
      "Epoch 27/50\n",
      "782/782 [==============================] - 36s 46ms/step - loss: 0.1532 - accuracy: 0.9457 - val_loss: 1.3123 - val_accuracy: 0.7428\n",
      "Epoch 28/50\n",
      "782/782 [==============================] - 37s 47ms/step - loss: 0.1409 - accuracy: 0.9513 - val_loss: 1.2815 - val_accuracy: 0.7464\n",
      "Epoch 29/50\n",
      "782/782 [==============================] - 39s 49ms/step - loss: 0.1326 - accuracy: 0.9542 - val_loss: 1.2551 - val_accuracy: 0.7419\n",
      "Epoch 30/50\n",
      "782/782 [==============================] - 43s 56ms/step - loss: 0.1352 - accuracy: 0.9519 - val_loss: 1.2900 - val_accuracy: 0.7479\n",
      "Epoch 31/50\n",
      "782/782 [==============================] - 42s 54ms/step - loss: 0.1385 - accuracy: 0.9518 - val_loss: 1.3189 - val_accuracy: 0.7428\n",
      "Epoch 32/50\n",
      "782/782 [==============================] - 38s 49ms/step - loss: 0.1272 - accuracy: 0.9556 - val_loss: 1.3015 - val_accuracy: 0.7411\n",
      "Epoch 33/50\n",
      "782/782 [==============================] - 37s 47ms/step - loss: 0.1220 - accuracy: 0.9578 - val_loss: 1.3962 - val_accuracy: 0.7391\n",
      "Epoch 34/50\n",
      "782/782 [==============================] - 36s 46ms/step - loss: 0.1240 - accuracy: 0.9572 - val_loss: 1.4226 - val_accuracy: 0.7452\n",
      "Epoch 35/50\n",
      "782/782 [==============================] - 36s 46ms/step - loss: 0.1151 - accuracy: 0.9587 - val_loss: 1.3989 - val_accuracy: 0.7392\n",
      "Epoch 36/50\n",
      "782/782 [==============================] - 36s 46ms/step - loss: 0.1196 - accuracy: 0.9580 - val_loss: 1.3850 - val_accuracy: 0.7424\n",
      "Epoch 37/50\n",
      "782/782 [==============================] - 35s 45ms/step - loss: 0.1173 - accuracy: 0.9594 - val_loss: 1.4963 - val_accuracy: 0.7426\n",
      "Epoch 38/50\n",
      "782/782 [==============================] - 36s 45ms/step - loss: 0.1121 - accuracy: 0.9607 - val_loss: 1.4737 - val_accuracy: 0.7442\n",
      "Epoch 39/50\n",
      "782/782 [==============================] - 36s 46ms/step - loss: 0.1113 - accuracy: 0.9611 - val_loss: 1.4477 - val_accuracy: 0.7437\n",
      "Epoch 40/50\n",
      "782/782 [==============================] - 36s 47ms/step - loss: 0.1108 - accuracy: 0.9614 - val_loss: 1.5082 - val_accuracy: 0.7435\n",
      "Epoch 41/50\n",
      "782/782 [==============================] - 37s 48ms/step - loss: 0.1087 - accuracy: 0.9631 - val_loss: 1.5580 - val_accuracy: 0.7383\n",
      "Epoch 42/50\n",
      "782/782 [==============================] - 38s 49ms/step - loss: 0.1079 - accuracy: 0.9620 - val_loss: 1.6065 - val_accuracy: 0.7383\n",
      "Epoch 43/50\n",
      "782/782 [==============================] - 39s 50ms/step - loss: 0.1073 - accuracy: 0.9624 - val_loss: 1.5109 - val_accuracy: 0.7465\n",
      "Epoch 44/50\n",
      "782/782 [==============================] - 39s 50ms/step - loss: 0.1093 - accuracy: 0.9621 - val_loss: 1.5852 - val_accuracy: 0.7407\n",
      "Epoch 45/50\n",
      "782/782 [==============================] - 38s 49ms/step - loss: 0.1009 - accuracy: 0.9648 - val_loss: 1.6770 - val_accuracy: 0.7376\n",
      "Epoch 46/50\n",
      "782/782 [==============================] - 39s 50ms/step - loss: 0.0908 - accuracy: 0.9688 - val_loss: 1.6864 - val_accuracy: 0.7462\n",
      "Epoch 47/50\n",
      "782/782 [==============================] - 36s 46ms/step - loss: 0.0956 - accuracy: 0.9669 - val_loss: 1.5662 - val_accuracy: 0.7424\n",
      "Epoch 48/50\n",
      "782/782 [==============================] - 38s 49ms/step - loss: 0.0944 - accuracy: 0.9675 - val_loss: 1.6640 - val_accuracy: 0.7419\n",
      "Epoch 49/50\n",
      "782/782 [==============================] - 37s 47ms/step - loss: 0.0952 - accuracy: 0.9680 - val_loss: 1.6379 - val_accuracy: 0.7393\n",
      "Epoch 50/50\n",
      "782/782 [==============================] - 37s 47ms/step - loss: 0.0950 - accuracy: 0.9672 - val_loss: 1.7723 - val_accuracy: 0.7316\n"
     ]
    },
    {
     "data": {
      "text/plain": [
       "<keras.callbacks.History at 0x1e41b2db8b0>"
      ]
     },
     "execution_count": 12,
     "metadata": {},
     "output_type": "execute_result"
    }
   ],
   "source": [
    "model.fit(x_train, y_train, epochs=50, batch_size=64, validation_data=(x_test, y_test))"
   ]
  },
  {
   "cell_type": "code",
   "execution_count": 13,
   "metadata": {
    "colab": {
     "base_uri": "https://localhost:8080/"
    },
    "id": "lrcvkKIpa3n-",
    "outputId": "ba3f7b1c-cbba-43df-86b7-cc5ee4bd924e"
   },
   "outputs": [
    {
     "name": "stdout",
     "output_type": "stream",
     "text": [
      "313/313 [==============================] - 4s 12ms/step - loss: 1.7723 - accuracy: 0.7316\n",
      "Test loss: 1.7723400592803955\n",
      "Test acc: 0.7315999865531921\n"
     ]
    }
   ],
   "source": [
    "test_loss, test_acc = model.evaluate(x_test, y_test)\n",
    "print('Test loss:', test_loss)\n",
    "print('Test acc:', test_acc)"
   ]
  },
  {
   "cell_type": "code",
   "execution_count": 15,
   "metadata": {
    "colab": {
     "base_uri": "https://localhost:8080/"
    },
    "id": "GlGOKsNYbPza",
    "outputId": "46a14ece-1cf0-4963-9803-d57d81b06ca4"
   },
   "outputs": [
    {
     "name": "stdout",
     "output_type": "stream",
     "text": [
      "1563/1563 [==============================] - 19s 12ms/step\n"
     ]
    }
   ],
   "source": [
    "predictions = model.predict(x_train)"
   ]
  },
  {
   "cell_type": "code",
   "execution_count": 16,
   "metadata": {
    "colab": {
     "base_uri": "https://localhost:8080/"
    },
    "id": "-M7ckEHLbXqT",
    "outputId": "943a0026-9dc8-4351-9b7d-78ba51b320f3"
   },
   "outputs": [
    {
     "data": {
      "text/plain": [
       "array([1.73126499e-03, 1.77051186e-06, 5.14131359e-12, 1.26567585e-11,\n",
       "       1.30192623e-14, 2.52052071e-16, 3.21214274e-14, 3.41538387e-18,\n",
       "       9.98266697e-01, 2.15373078e-07], dtype=float32)"
      ]
     },
     "execution_count": 16,
     "metadata": {},
     "output_type": "execute_result"
    }
   ],
   "source": [
    "predictions[100]"
   ]
  },
  {
   "cell_type": "code",
   "execution_count": 17,
   "metadata": {
    "colab": {
     "base_uri": "https://localhost:8080/"
    },
    "id": "JNzkW02xbhT5",
    "outputId": "6840cbcb-4ec4-4c53-d2e8-bf6b04e01365"
   },
   "outputs": [
    {
     "data": {
      "text/plain": [
       "8"
      ]
     },
     "execution_count": 17,
     "metadata": {},
     "output_type": "execute_result"
    }
   ],
   "source": [
    "np.argmax(predictions[100])"
   ]
  },
  {
   "cell_type": "code",
   "execution_count": 18,
   "metadata": {
    "colab": {
     "base_uri": "https://localhost:8080/"
    },
    "id": "BSG_1TzfbpGx",
    "outputId": "e63cff9c-318f-46cc-920c-0b5d9820a1be"
   },
   "outputs": [
    {
     "data": {
      "text/plain": [
       "8"
      ]
     },
     "execution_count": 18,
     "metadata": {},
     "output_type": "execute_result"
    }
   ],
   "source": [
    "np.argmax(y_train[100])"
   ]
  },
  {
   "cell_type": "code",
   "execution_count": 19,
   "metadata": {
    "colab": {
     "base_uri": "https://localhost:8080/",
     "height": 472
    },
    "id": "6udb8414bsex",
    "outputId": "f5c8636a-c7a7-41f1-99ec-038d6a599004"
   },
   "outputs": [
    {
     "data": {
      "text/html": [
       "<p>Предсказанный класс: Ship, Истинный класс: Ship</p>"
      ],
      "text/plain": [
       "<IPython.core.display.HTML object>"
      ]
     },
     "metadata": {},
     "output_type": "display_data"
    },
    {
     "data": {
      "image/jpeg": "[encoded data removed]",
      "image/png": "[encoded data removed]",
      "text/plain": [
       "<PIL.Image.Image image mode=RGB size=32x32>"
      ]
     },
     "metadata": {},
     "output_type": "display_data"
    }
   ],
   "source": [
    "pred_class_idx = np.argmax(predictions[100])\n",
    "pred_class = class_names[pred_class_idx]\n",
    "true_class = class_names[np.argmax(y_train[100])]\n",
    "image = Image.fromarray((x_train[100] * 255).astype(np.uint8))\n",
    "display(HTML(f'<p>Предсказанный класс: {pred_class}, Истинный класс: {true_class}</p>'))\n",
    "display(image)"
   ]
  },
  {
   "cell_type": "code",
   "execution_count": null,
   "metadata": {},
   "outputs": [],
   "source": []
  }
 ],
 "metadata": {
  "colab": {
   "provenance": []
  },
  "kernelspec": {
   "display_name": "Python 3 (ipykernel)",
   "language": "python",
   "name": "python3"
  },
  "language_info": {
   "codemirror_mode": {
    "name": "ipython",
    "version": 3
   },
   "file_extension": ".py",
   "mimetype": "text/x-python",
   "name": "python",
   "nbconvert_exporter": "python",
   "pygments_lexer": "ipython3",
   "version": "3.10.16"
  }
 },
 "nbformat": 4,
 "nbformat_minor": 4
}
