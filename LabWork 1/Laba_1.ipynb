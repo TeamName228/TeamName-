{
 "cells": [
  {
   "cell_type": "code",
   "execution_count": 10,
   "id": "88eddb96-f808-489a-bd89-7e70381d2192",
   "metadata": {},
   "outputs": [
    {
     "name": "stderr",
     "output_type": "stream",
     "text": [
      "[nltk_data] Downloading package punkt_tab to\n",
      "[nltk_data]     C:\\Users\\sasha\\AppData\\Roaming\\nltk_data...\n",
      "[nltk_data]   Package punkt_tab is already up-to-date!\n"
     ]
    },
    {
     "data": {
      "text/plain": [
       "True"
      ]
     },
     "execution_count": 10,
     "metadata": {},
     "output_type": "execute_result"
    }
   ],
   "source": [
    "from deeppavlov import build_model\n",
    "import nltk\n",
    "nltk.download('punkt_tab')"
   ]
  },
  {
   "cell_type": "code",
   "execution_count": 2,
   "id": "6a252e59-fa37-4ee9-8f23-50ca88aa487f",
   "metadata": {},
   "outputs": [
    {
     "name": "stderr",
     "output_type": "stream",
     "text": [
      "2024-12-26 21:39:02.502 INFO in 'deeppavlov.download'['download'] at line 138: Skipped http://files.deeppavlov.ai/v1/squad/squad_ru_torch_bert.tar.gz download because of matching hashes\n",
      "D:\\ProjectProgramms\\Anaconda\\Anaconda3 2024\\envs\\Python38\\lib\\site-packages\\tqdm\\auto.py:22: TqdmWarning: IProgress not found. Please update jupyter and ipywidgets. See https://ipywidgets.readthedocs.io/en/stable/user_install.html\n",
      "  from .autonotebook import tqdm as notebook_tqdm\n",
      "D:\\ProjectProgramms\\Anaconda\\Anaconda3 2024\\envs\\Python38\\lib\\site-packages\\huggingface_hub\\file_download.py:795: FutureWarning: `resume_download` is deprecated and will be removed in version 1.0.0. Downloads always resume when possible. If you want to force a new download, use `force_download=True`.\n",
      "  warnings.warn(\n",
      "Some weights of the model checkpoint at DeepPavlov/rubert-base-cased were not used when initializing BertForQuestionAnswering: ['cls.predictions.transform.dense.bias', 'cls.predictions.decoder.weight', 'cls.seq_relationship.bias', 'cls.predictions.bias', 'cls.predictions.transform.dense.weight', 'cls.seq_relationship.weight', 'cls.predictions.decoder.bias', 'cls.predictions.transform.LayerNorm.bias', 'cls.predictions.transform.LayerNorm.weight']\n",
      "- This IS expected if you are initializing BertForQuestionAnswering from the checkpoint of a model trained on another task or with another architecture (e.g. initializing a BertForSequenceClassification model from a BertForPreTraining model).\n",
      "- This IS NOT expected if you are initializing BertForQuestionAnswering from the checkpoint of a model that you expect to be exactly identical (initializing a BertForSequenceClassification model from a BertForSequenceClassification model).\n",
      "Some weights of BertForQuestionAnswering were not initialized from the model checkpoint at DeepPavlov/rubert-base-cased and are newly initialized: ['qa_outputs.weight', 'qa_outputs.bias']\n",
      "You should probably TRAIN this model on a down-stream task to be able to use it for predictions and inference.\n",
      "2024-12-26 21:39:07.649 WARNING in 'deeppavlov.core.models.torch_model'['torch_model'] at line 96: Unable to place component TorchTransformersSquad on GPU, since no CUDA GPUs are available. Using CPU.\n"
     ]
    }
   ],
   "source": [
    "model = build_model('squad_ru_bert', download=True)"
   ]
  },
  {
   "cell_type": "code",
   "execution_count": 3,
   "id": "b85342a7-d656-4f6a-b82a-f17c7746b886",
   "metadata": {},
   "outputs": [],
   "source": [
    "from urllib import request\n",
    "def getHtmlDocument(url):\n",
    "    fp = request.urlopen(url)\n",
    "    mybytes = fp.read()\n",
    "    fp.close()\n",
    "    return mybytes.decode('utf8')"
   ]
  },
  {
   "cell_type": "code",
   "execution_count": 4,
   "id": "7b2b5e37-3785-4444-af7e-c56b5e412e14",
   "metadata": {},
   "outputs": [],
   "source": [
    "from bs4 import BeautifulSoup\n",
    "def getTextFromHtml(HtmlDocument):\n",
    "    soup = BeautifulSoup(HtmlDocument, features='html.parser')\n",
    "    content = soup.find('div', {'id': 'post-content-body'})\n",
    "    return content.text"
   ]
  },
  {
   "cell_type": "code",
   "execution_count": 5,
   "id": "0336262a-743c-4bad-ac7a-c5e9cdad065f",
   "metadata": {},
   "outputs": [],
   "source": [
    "questions = (\n",
    "    'О чём статья?',\n",
    "    'Какая цель статьи?',\n",
    "    'Какая задача решалась?',\n",
    "    'Что использовалось в работе?',\n",
    "    'Какие выводы?',\n",
    "    'Что использовалось?',\n",
    "    'Какие алгоритмы использовалось?',\n",
    "    'Какой язык программирования использовали?',\n",
    "    'В чём отличия?',\n",
    "    'Что особенного проявилось?',\n",
    "    'Какова область применения?',\n",
    "    'Что получено?',\n",
    "    'Каков результат?',\n",
    "    'Что получено в заключении?',\n",
    "    'Какова основная тема статьи?',\n",
    ")"
   ]
  },
  {
   "cell_type": "code",
   "execution_count": 8,
   "id": "8a53463a-677f-48be-90b0-b627de9b3d4d",
   "metadata": {},
   "outputs": [],
   "source": [
    "paper_urls = (\n",
    "'https://habr.com/ru/articles/339916/',\n",
    ")"
   ]
  },
  {
   "cell_type": "code",
   "execution_count": 9,
   "id": "32f1efd1-9809-42df-95a2-c6d16aafa4df",
   "metadata": {},
   "outputs": [
    {
     "name": "stdout",
     "output_type": "stream",
     "text": [
      "Что использовалось в работе?   ['механизм эскалации']\n",
      "Какие выводы?   ['изменились сроки, объём и другие характеристики решаемой проблемы']\n",
      "Что использовалось?   ['механизм эскалаций']\n",
      "Какой язык программирования использовали?   ['ITIL']\n",
      "В чём отличия?   ['между функциональной и иерархческой эскалацией']\n",
      "Что особенного проявилось?   ['новые существенные обстоятельства решаемой проблемы']\n",
      "Какова область применения?   ['качественно и системно']\n",
      "Что получено?   ['качественно и системно']\n",
      "Каков результат?   ['качественно и системно']\n",
      "Что получено в заключении?   ['исполнитель не ушёл в отпуск']\n",
      "Какова основная тема статьи?   ['Как написать хороший SLA\"']\n"
     ]
    }
   ],
   "source": [
    "for url in paper_urls:\n",
    "    content = getTextFromHtml(getHtmlDocument(url))\n",
    "    for q in questions:\n",
    "        answer = model([content], [q])\n",
    "        if len(answer[2]) > 0 and abs(answer[2][0] - 1) > 1e-6:\n",
    "            print(q, ' ', answer[0])"
   ]
  },
  {
   "cell_type": "code",
   "execution_count": null,
   "id": "165fcb7d-220c-49ec-8f2c-c0269a88e456",
   "metadata": {},
   "outputs": [],
   "source": []
  }
 ],
 "metadata": {
  "kernelspec": {
   "display_name": "Python 3 (ipykernel)",
   "language": "python",
   "name": "python3"
  },
  "language_info": {
   "codemirror_mode": {
    "name": "ipython",
    "version": 3
   },
   "file_extension": ".py",
   "mimetype": "text/x-python",
   "name": "python",
   "nbconvert_exporter": "python",
   "pygments_lexer": "ipython3",
   "version": "3.8.20"
  }
 },
 "nbformat": 4,
 "nbformat_minor": 5
}
