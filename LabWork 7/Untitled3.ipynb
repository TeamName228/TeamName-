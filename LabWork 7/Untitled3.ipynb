{
 "cells": [
  {
   "cell_type": "code",
   "execution_count": null,
   "id": "515a7b6a-ca5f-49c4-b7c5-9f099e67d9fd",
   "metadata": {},
   "outputs": [
    {
     "name": "stderr",
     "output_type": "stream",
     "text": [
      "2025-03-30 16:35:25,714 - httpx - INFO - HTTP Request: POST https://api.telegram.org/bot7971151921:AAGpMHInb8sT8dEPSwzU37m8Fk6-WT_3b8k/getMe \"HTTP/1.1 200 OK\"\n",
      "2025-03-30 16:35:25,971 - httpx - INFO - HTTP Request: POST https://api.telegram.org/bot7971151921:AAGpMHInb8sT8dEPSwzU37m8Fk6-WT_3b8k/deleteWebhook \"HTTP/1.1 200 OK\"\n",
      "2025-03-30 16:35:25,972 - telegram.ext.Application - INFO - Application started\n",
      "2025-03-30 16:35:36,770 - httpx - INFO - HTTP Request: POST https://api.telegram.org/bot7971151921:AAGpMHInb8sT8dEPSwzU37m8Fk6-WT_3b8k/getUpdates \"HTTP/1.1 200 OK\"\n",
      "2025-03-30 16:35:38,024 - httpx - INFO - HTTP Request: POST https://api.telegram.org/bot7971151921:AAGpMHInb8sT8dEPSwzU37m8Fk6-WT_3b8k/getUpdates \"HTTP/1.1 200 OK\"\n",
      "2025-03-30 16:35:40,052 - root - ERROR - Error while getting response from ollama: Failed to connect to Ollama. Please check that Ollama is downloaded, running and accessible. https://ollama.com/download\n",
      "2025-03-30 16:35:40,840 - httpx - INFO - HTTP Request: POST https://api.telegram.org/bot7971151921:AAGpMHInb8sT8dEPSwzU37m8Fk6-WT_3b8k/sendMessage \"HTTP/1.1 200 OK\"\n",
      "2025-03-30 16:35:50,318 - httpx - INFO - HTTP Request: POST https://api.telegram.org/bot7971151921:AAGpMHInb8sT8dEPSwzU37m8Fk6-WT_3b8k/getUpdates \"HTTP/1.1 200 OK\"\n",
      "2025-03-30 16:35:56,756 - httpx - INFO - HTTP Request: POST https://api.telegram.org/bot7971151921:AAGpMHInb8sT8dEPSwzU37m8Fk6-WT_3b8k/getUpdates \"HTTP/1.1 200 OK\"\n",
      "2025-03-30 16:35:58,787 - root - ERROR - Error while getting response from ollama: Failed to connect to Ollama. Please check that Ollama is downloaded, running and accessible. https://ollama.com/download\n",
      "2025-03-30 16:35:59,589 - httpx - INFO - HTTP Request: POST https://api.telegram.org/bot7971151921:AAGpMHInb8sT8dEPSwzU37m8Fk6-WT_3b8k/sendMessage \"HTTP/1.1 200 OK\"\n",
      "2025-03-30 16:36:09,054 - httpx - INFO - HTTP Request: POST https://api.telegram.org/bot7971151921:AAGpMHInb8sT8dEPSwzU37m8Fk6-WT_3b8k/getUpdates \"HTTP/1.1 200 OK\"\n",
      "2025-03-30 16:36:19,320 - httpx - INFO - HTTP Request: POST https://api.telegram.org/bot7971151921:AAGpMHInb8sT8dEPSwzU37m8Fk6-WT_3b8k/getUpdates \"HTTP/1.1 200 OK\"\n",
      "2025-03-30 16:36:29,588 - httpx - INFO - HTTP Request: POST https://api.telegram.org/bot7971151921:AAGpMHInb8sT8dEPSwzU37m8Fk6-WT_3b8k/getUpdates \"HTTP/1.1 200 OK\"\n",
      "2025-03-30 16:36:30,021 - httpx - INFO - HTTP Request: POST https://api.telegram.org/bot7971151921:AAGpMHInb8sT8dEPSwzU37m8Fk6-WT_3b8k/getUpdates \"HTTP/1.1 200 OK\"\n"
     ]
    }
   ],
   "source": [
    "import logging\n",
    "from telegram import Update\n",
    "from telegram.ext import ApplicationBuilder, CommandHandler, MessageHandler, filters\n",
    "import ollama\n",
    "import nest_asyncio\n",
    "\n",
    "nest_asyncio.apply()\n",
    "\n",
    "logging.basicConfig(format='%(asctime)s - %(name)s - %(levelname)s - %(message)s', level=logging.INFO)\n",
    "\n",
    "TOKEN = 'ВОТ ТЫ И ПОПАЛСЯ'\n",
    "\n",
    "user_ids = {}\n",
    "context_memory = {}\n",
    "\n",
    "async def start(update: Update, context) -> None:\n",
    "    await update.message.reply_text('Привет! Я чат-бот. Чем могу помочь?')\n",
    "\n",
    "async def handle_message(update: Update, context):\n",
    "    user_id = update.effective_user.id\n",
    "    if user_id not in user_ids:\n",
    "        user_ids[user_id] = {'last_message': None, 'preferences': {}}\n",
    "        context_memory[user_id] = []\n",
    "\n",
    "    message_text = update.message.text\n",
    "    context_messages = context_memory[user_id]\n",
    "\n",
    "    context_messages.append({'role': 'user', 'content': message_text})\n",
    "\n",
    "    context_memory[user_id] = context_messages[-8:]\n",
    "\n",
    "    try:\n",
    "        response = ollama.chat(model='deepseek-r1:14b', messages=context_memory[user_id])\n",
    "        \n",
    "        await update.message.reply_text(response['message']['content'])\n",
    "    except Exception as e:\n",
    "        logging.error(f\"Error while getting response from ollama: {e}\")\n",
    "        await update.message.reply_text('Ошибка')\n",
    "\n",
    "async def main() -> None:\n",
    "    application = ApplicationBuilder().token(TOKEN).build()\n",
    "\n",
    "    application.add_handler(CommandHandler('start', start))\n",
    "    application.add_handler(MessageHandler(filters.TEXT & ~filters.COMMAND, handle_message))\n",
    "\n",
    "    await application.run_polling()\n",
    "\n",
    "if __name__ == '__main__':\n",
    "    import asyncio\n",
    "    asyncio.run(main())"
   ]
  }
 ],
 "metadata": {
  "kernelspec": {
   "display_name": "Python 3 (ipykernel)",
   "language": "python",
   "name": "python3"
  },
  "language_info": {
   "codemirror_mode": {
    "name": "ipython",
    "version": 3
   },
   "file_extension": ".py",
   "mimetype": "text/x-python",
   "name": "python",
   "nbconvert_exporter": "python",
   "pygments_lexer": "ipython3",
   "version": "3.10.16"
  }
 },
 "nbformat": 4,
 "nbformat_minor": 5
}
