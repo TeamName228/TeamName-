{
 "cells": [
  {
   "cell_type": "code",
   "execution_count": 2,
   "id": "e777a7a6-49ae-449c-adf6-0973d9445706",
   "metadata": {},
   "outputs": [
    {
     "name": "stdout",
     "output_type": "stream",
     "text": [
      "Архив успешно распакован в hasyv2/\n"
     ]
    }
   ],
   "source": [
    "import zipfile\n",
    "import os\n",
    "\n",
    "def unpack_zip(zip_path, extract_to):\n",
    "    # Проверяем, существует ли ZIP-файл\n",
    "    if not os.path.exists(zip_path):\n",
    "        print(f\"Ошибка: Файл {zip_path} не найден.\")\n",
    "        return\n",
    "    \n",
    "    # Проверяем, существует ли директория для распаковки, и создаём её, если нет\n",
    "    if not os.path.exists(extract_to):\n",
    "        os.makedirs(extract_to)\n",
    "    \n",
    "    # Открываем и распаковываем ZIP-файл\n",
    "    try:\n",
    "        with zipfile.ZipFile(zip_path, 'r') as zip_ref:\n",
    "            zip_ref.extractall(extract_to)\n",
    "            print(f\"Архив успешно распакован в {extract_to}\")\n",
    "    except zipfile.BadZipFile:\n",
    "        print(\"Ошибка: Файл повреждён или не является ZIP-архивом.\")\n",
    "    except PermissionError:\n",
    "        print(\"Ошибка: Недостаточно прав для распаковки в указанную директорию.\")\n",
    "    except Exception as e:\n",
    "        print(f\"Произошла ошибка: {e}\")\n",
    "\n",
    "# Пример использования\n",
    "if __name__ == \"__main__\":\n",
    "    zip_file = \"hasyv2.zip\"  # Укажите путь к вашему ZIP-файлу\n",
    "    output_dir = \"hasyv2/\"  # Укажите директорию для распаковки\n",
    "    unpack_zip(zip_file, output_dir)"
   ]
  },
  {
   "cell_type": "code",
   "execution_count": null,
   "id": "e0f8af8a-f735-400c-8ae6-ffaf4849f2c1",
   "metadata": {},
   "outputs": [],
   "source": []
  }
 ],
 "metadata": {
  "kernelspec": {
   "display_name": "Python 3 (ipykernel)",
   "language": "python",
   "name": "python3"
  },
  "language_info": {
   "codemirror_mode": {
    "name": "ipython",
    "version": 3
   },
   "file_extension": ".py",
   "mimetype": "text/x-python",
   "name": "python",
   "nbconvert_exporter": "python",
   "pygments_lexer": "ipython3",
   "version": "3.10.18"
  }
 },
 "nbformat": 4,
 "nbformat_minor": 5
}
