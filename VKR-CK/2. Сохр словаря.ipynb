{
 "cells": [
  {
   "cell_type": "code",
   "execution_count": 1,
   "id": "fafb93de-f999-4946-a459-d1b78e4862cf",
   "metadata": {
    "collapsed": true,
    "jupyter": {
     "outputs_hidden": true
    }
   },
   "outputs": [
    {
     "name": "stdout",
     "output_type": "stream",
     "text": [
      "Requirement already satisfied: pandas in /home/enovo/hasy-env/lib/python3.10/site-packages (2.3.0)\n",
      "Requirement already satisfied: numpy>=1.22.4 in /home/enovo/hasy-env/lib/python3.10/site-packages (from pandas) (1.26.4)\n",
      "Requirement already satisfied: python-dateutil>=2.8.2 in /home/enovo/hasy-env/lib/python3.10/site-packages (from pandas) (2.9.0.post0)\n",
      "Requirement already satisfied: pytz>=2020.1 in /home/enovo/hasy-env/lib/python3.10/site-packages (from pandas) (2025.2)\n",
      "Requirement already satisfied: tzdata>=2022.7 in /home/enovo/hasy-env/lib/python3.10/site-packages (from pandas) (2025.2)\n",
      "Requirement already satisfied: six>=1.5 in /home/enovo/hasy-env/lib/python3.10/site-packages (from python-dateutil>=2.8.2->pandas) (1.17.0)\n",
      "Requirement already satisfied: pylatexenc in /home/enovo/hasy-env/lib/python3.10/site-packages (2.10)\n"
     ]
    }
   ],
   "source": [
    "!pip install pandas\n",
    "!pip install pylatexenc"
   ]
  },
  {
   "cell_type": "code",
   "execution_count": 2,
   "id": "219e9702-2c57-424b-8a08-2aaa14bcc41c",
   "metadata": {
    "scrolled": true
   },
   "outputs": [
    {
     "name": "stdout",
     "output_type": "stream",
     "text": [
      "Количество классов в словаре: 369\n",
      "{31: 'A', 32: 'B', 33: 'C', 34: 'D', 35: 'E', 36: 'F', 37: 'G', 38: 'H', 39: 'I', 40: 'J', 41: 'K', 42: 'L', 43: 'M', 44: 'N', 45: 'O', 46: 'P', 47: 'Q', 48: 'R', 49: 'S', 50: 'T', 51: 'U', 52: 'V', 53: 'W', 54: 'X', 55: 'Y', 56: 'Z', 59: '→', 70: '0', 71: '1', 72: '2', 73: '3', 74: '4', 75: '5', 76: '6', 77: '7', 78: '8', 79: '9', 81: 'π', 82: 'α', 87: 'β', 88: '∑', 89: 'σ', 90: 'a', 91: 'b', 92: 'c', 93: 'd', 94: 'e', 95: 'f', 96: 'g', 97: 'h', 98: 'i', 99: 'j', 100: 'k', 101: 'l', 102: 'm', 103: 'n', 104: 'o', 105: 'p', 106: 'q', 107: 'r', 108: 's', 110: 'u', 111: 'v', 112: 'w', 113: 'x', 114: 'y', 115: 'z', 116: 'Σ', 117: 'γ', 150: 'Γ', 151: 'δ', 152: 'Δ', 153: 'ζ', 154: 'η', 155: 'θ', 156: 'Θ', 157: 'ϵ', 158: 'ε', 159: 'ι', 160: 'κ', 161: 'ϰ', 162: 'λ', 163: 'Λ', 164: 'μ', 165: 'ν', 166: 'ξ', 167: 'Ξ', 168: 'Π', 169: 'ρ', 170: 'ϱ', 171: 'τ', 174: 'ϕ', 175: 'Φ', 176: 'φ', 177: 'χ', 178: 'ψ', 179: 'Ψ', 180: 'ω', 181: 'Ω', 182: '∂', 183: '∫', 184: '·', 185: '≤', 186: '≥', 187: '<', 188: '>', 189: '⊂', 190: '⊃', 191: '⊆', 192: '⊇', 193: '≅', 194: '∝', 195: '-', 196: '+', 197: 'ℝ', 254: '$', 257: '{', 259: '', 260: '…', 261: '}', 262: '', 263: '†', 264: '', 265: '&', 266: '#', 267: '%', 268: '', 269: '', 508: '', 510: '⨿', 511: '∪', 512: '⊕', 513: '×', 514: '∗', 517: '◃', 520: '⊗', 521: '▹', 523: '♢', 524: '±', 526: '÷', 527: '∙', 528: '∖', 529: '⊎', 530: '∩', 531: '∓', 532: '⊓', 533: '∨', 534: '⊙', 535: '⊔', 536: '∧', 537: '∘', 538: '⊖', 539: '⋆', 540: '≀', 541: '⌅', 542: '⊚', 544: '⊡', 549: '⋉', 550: '⊞', 553: '⊠', 555: '⋊', 562: '⊛', 564: '', 574: '∏', 577: '∐', 582: '∮', 583: '', 584: '', 591: '', 595: '', 600: '', 601: '≈', 603: '≡', 604: '≢', 605: '⊥', 607: '≍', 608: '⌢', 609: '≺', 610: '≻', 611: '⋈', 612: '≼', 613: '≽', 614: '|', 615: '⊢', 616: '⊣', 617: '', 618: '∼', 620: '≐', 621: '∥', 622: '≃', 630: '∽', 631: '⊸', 634: '⋔', 635: '∴', 636: '∵', 639: '≬', 640: '≼', 644: '', 647: '⊩', 650: '', 661: '∤', 671: '⊭', 678: '⊑', 679: '⊈', 683: '⊊', 684: '', 698: '≠', 711: '⩾', 712: '≷', 713: '≲', 716: '≳', 728: '⩽', 739: '⊴', 741: '▸', 743: '≜', 748: '⇓', 751: '↓', 753: '⇒', 756: '↪', 757: '⟺', 758: '↘', 759: '⟼', 761: '←', 762: '⟹', 763: '↑', 764: '⇐', 765: '⟶', 767: '⇔', 768: '↦', 770: '↔', 771: '↗', 775: '⇌', 777: '⇀', 778: '', 783: '↺', 785: '⇄', 786: '↻', 788: '⇉', 791: '⇝', 792: '↷', 801: '↠', 809: '⇏', 812: '↛', 817: '↾', 822: '', 823: '', 827: '', 837: 'ϑ', 838: 'ϖ', 881: '', 882: '∀', 884: '∋', 885: '⊤', 886: 'ℓ', 887: 'ħ', 888: '∈', 889: '∉', 890: '℘', 891: '∃', 892: '', 894: '', 901: '∄', 912: '⟨', 913: '⟩', 914: '⌈', 915: '⌉', 916: '⌊', 917: '⌋', 918: '[', 919: ']', 920: '|', 921: '', 922: '/', 923: '', 924: '', 934: '⋮', 936: '⋱', 941: '…', 943: 'ℵ', 944: '∞', 945: \"'\", 946: '∠', 947: '', 948: '♯', 949: '\\\\', 950: '∅', 951: '∇', 953: '♭', 956: '', 957: '', 958: '', 959: '', 960: '√()', 965: '∢', 968: '□', 971: '▿', 972: '▪', 973: '◊', 974: '∅', 977: '▵', 992: '⋰', 993: '𝒜', 994: 'ℬ', 995: '𝒞', 996: '𝒟', 997: 'ℰ', 998: 'ℱ', 999: '𝒢', 1000: 'ℋ', 1004: 'ℒ', 1005: 'ℳ', 1006: '𝒩', 1007: '𝒪', 1008: '𝒫', 1010: 'ℛ', 1011: '𝒮', 1012: '𝒯', 1013: '𝒰', 1016: '𝒳', 1018: '𝒵', 1019: '𝔄', 1031: '𝔐', 1037: '𝔖', 1042: '𝔛', 1045: '1', 1046: '1', 1051: 'C', 1053: 'E', 1062: 'N', 1064: 'P', 1065: 'Q', 1066: 'R', 1074: 'Z', 1075: '𝒜', 1077: '𝒞', 1078: '𝒟', 1079: 'ℰ', 1080: 'ℱ', 1082: 'ℋ', 1086: 'ℒ', 1090: '𝒫', 1093: '𝒮', 1101: '', 1102: '', 1103: '', 1111: '♀', 1112: '', 1115: '', 1116: '', 1117: '', 1168: '', 1169: '♂', 1177: '', 1184: '', 1185: '', 1187: '', 1314: 'ℚ', 1315: 'ℕ', 1316: 'ℤ', 1317: 'ℍ', 1369: 'ß', 1371: 'å', 1374: 'Ł', 1382: 'Å', 1385: 'Ø', 1394: 'ø', 1395: 'æ', 1396: 'Æ', 1400: '«'}\n"
     ]
    }
   ],
   "source": [
    "import pandas as pd\n",
    "from pylatexenc.latex2text import LatexNodes2Text\n",
    "\n",
    "symbols_df = pd.read_csv('hasyv2/hasyv2/symbols.csv')\n",
    "latex_to_text = LatexNodes2Text()\n",
    "class_to_symbol = {}\n",
    "\n",
    "for index, row in symbols_df.iterrows():\n",
    "    class_id = row['symbol_id']\n",
    "    latex_command = row['latex']\n",
    "    try:\n",
    "        unicode_symbol = latex_to_text.latex_to_text(latex_command)\n",
    "    except:\n",
    "        unicode_symbol = latex_command  # Обработка ошибок\n",
    "    class_to_symbol[class_id] = unicode_symbol\n",
    "\n",
    "print(f\"Количество классов в словаре: {len(class_to_symbol)}\")\n",
    "print(class_to_symbol)"
   ]
  },
  {
   "cell_type": "code",
   "execution_count": 3,
   "id": "9996358d-8504-4fc6-aedb-1c18675ef211",
   "metadata": {},
   "outputs": [
    {
     "name": "stdout",
     "output_type": "stream",
     "text": [
      "✅ Словарь успешно сохранён в models/class_to_symbol.json\n"
     ]
    }
   ],
   "source": [
    "import json\n",
    "\n",
    "# Предполагается, что class_to_symbol уже создан, например:\n",
    "# class_to_symbol = {0: '0', 1: 'α', 2: 'β', ...}\n",
    "\n",
    "# Путь для сохранения файла\n",
    "output_path = 'models/class_to_symbol.json'\n",
    "\n",
    "# Сохранение словаря в JSON-файл с поддержкой Unicode\n",
    "with open(output_path, 'w', encoding='utf-8') as f:\n",
    "    json.dump(class_to_symbol, f, ensure_ascii=False, indent=4)\n",
    "\n",
    "print(f\"✅ Словарь успешно сохранён в {output_path}\")"
   ]
  },
  {
   "cell_type": "code",
   "execution_count": 4,
   "id": "f044afa2-8790-4147-b2b3-9ed36fc547d6",
   "metadata": {},
   "outputs": [],
   "source": [
    "# Проверка данных и нормализация меток\n",
    "csv_path = 'hasyv2/hasyv2/hasy-data-labels.csv'\n",
    "df = pd.read_csv(csv_path)"
   ]
  },
  {
   "cell_type": "code",
   "execution_count": 5,
   "id": "39b458b9-114f-442e-96ed-6e1f0eb2eed7",
   "metadata": {},
   "outputs": [],
   "source": [
    "# Создание отображения symbol_id на [0, 368]\n",
    "unique_symbol_ids = sorted(df['symbol_id'].unique())\n",
    "id_to_normalized = {old_id: new_id for new_id, old_id in enumerate(unique_symbol_ids)}\n",
    "if len(unique_symbol_ids) != 369:\n",
    "    raise ValueError(f\"Ожидалось 369 уникальных классов, найдено {len(unique_symbol_ids)}\")"
   ]
  },
  {
   "cell_type": "code",
   "execution_count": 6,
   "id": "7d5ad067-e7ef-4df3-8f19-3506f9003eab",
   "metadata": {},
   "outputs": [
    {
     "name": "stdout",
     "output_type": "stream",
     "text": [
      "Нормализованный диапазон symbol_id: [0, 368]\n",
      "Количество уникальных классов: 369\n"
     ]
    }
   ],
   "source": [
    "# Нормализация symbol_id в DataFrame\n",
    "df['normalized_symbol_id'] = df['symbol_id'].map(id_to_normalized)\n",
    "print(f\"Нормализованный диапазон symbol_id: [{df['normalized_symbol_id'].min()}, {df['normalized_symbol_id'].max()}]\")\n",
    "print(f\"Количество уникальных классов: {len(df['normalized_symbol_id'].unique())}\")"
   ]
  },
  {
   "cell_type": "code",
   "execution_count": 8,
   "id": "82d78bf2-aa72-48a1-879c-4a5cb7468c83",
   "metadata": {},
   "outputs": [
    {
     "name": "stdout",
     "output_type": "stream",
     "text": [
      "✅ Новый словарь сохранён в models/class_to_symbol_normalized.json\n"
     ]
    }
   ],
   "source": [
    "# Обновление словаря class_to_symbol.json\n",
    "with open('models/class_to_symbol.json', 'r', encoding='utf-8') as f:\n",
    "    old_class_to_symbol = json.load(f)\n",
    "new_class_to_symbol = {str(id_to_normalized[int(old_id)]): symbol for old_id, symbol in old_class_to_symbol.items()}\n",
    "with open('models/class_to_symbol_normalized.json', 'w', encoding='utf-8') as f:\n",
    "    json.dump(new_class_to_symbol, f, ensure_ascii=False, indent=4)\n",
    "print(\"✅ Новый словарь сохранён в models/class_to_symbol_normalized.json\")"
   ]
  },
  {
   "cell_type": "code",
   "execution_count": null,
   "id": "3db1c8af-f5f1-4e6c-903d-ca353fb17dae",
   "metadata": {},
   "outputs": [],
   "source": []
  }
 ],
 "metadata": {
  "kernelspec": {
   "display_name": "Python 3.10 (HASY)",
   "language": "python",
   "name": "hasy-env"
  },
  "language_info": {
   "codemirror_mode": {
    "name": "ipython",
    "version": 3
   },
   "file_extension": ".py",
   "mimetype": "text/x-python",
   "name": "python",
   "nbconvert_exporter": "python",
   "pygments_lexer": "ipython3",
   "version": "3.10.18"
  }
 },
 "nbformat": 4,
 "nbformat_minor": 5
}
